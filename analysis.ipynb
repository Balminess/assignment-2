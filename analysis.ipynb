{
 "cells": [
  {
   "cell_type": "code",
   "execution_count": 17,
   "metadata": {},
   "outputs": [
    {
     "name": "stdout",
     "output_type": "stream",
     "text": [
      "Pearsor coefficient between sloc and number of revisions is 0.41565317073924585,p-value is 8.192372710186703e-156\n",
      "Spearman coefficient between sloc and number of revisions is 0.30563107140798257,p-value is 1.667819156175174e-81\n",
      "Kendalls_Tau coefficient between sloc and number of revisions is 0.23822734387463979,p-value is 3.53005447964824e-80\n",
      "Pearsor coefficient between mcCabe and number of revisions is 0.3588709485314163,p-value is 8.33635214186779e-114\n",
      "Spearman coefficient between mcCabe and number of revisions is 0.3221049855267511,p-value is 8.125261696321308e-91\n",
      "Kendalls_Tau coefficient between mcCabe and number of revisions is 0.26586628671241347,p-value is 1.0576155004663574e-87\n",
      "Pearsor coefficient between readability and number of revisions is -0.27205008640119704,p-value is 2.6083687786549504e-64\n",
      "Spearman coefficient between readability and number of revisions is -0.2271879766881704,p-value is 7.015806160234559e-45\n",
      "Kendalls_Tau coefficient between readability and number of revisions is -0.16163980440850792,p-value is 5.76996406922464e-44\n"
     ]
    }
   ],
   "source": [
    "import pandas as pd\n",
    "from scipy import stats \n",
    "\n",
    "# read scv\n",
    "data = pd.read_csv(\"E:/2023F/course/softwarequality/codaass2/checkstyle.csv\")\n",
    "code_metrics=['sloc','mcCabe','readability']\n",
    "\n",
    "for metric in code_metrics:\n",
    "\n",
    "    ps_coefficient=stats.pearsonr(data[metric], data['revisionNumber']).statistic\n",
    "    ps_pvalue=stats.pearsonr(data[metric], data['revisionNumber']).pvalue\n",
    "    print(f'Pearsor coefficient between {metric} and number of revisions is {ps_coefficient},p-value is {ps_pvalue}')\n",
    "\n",
    "    sp_coefficient=stats.spearmanr(data[metric], data['revisionNumber']).statistic\n",
    "    sp_pvalue=stats.spearmanr(data[metric], data['revisionNumber']).pvalue\n",
    "    print(f'Spearman coefficient between {metric} and number of revisions is {sp_coefficient},p-value is {sp_pvalue}')\n",
    "\n",
    "    kd_coefficient=stats.kendalltau(data[metric], data['revisionNumber']).statistic\n",
    "    kd_pvalue=stats.kendalltau(data[metric], data['revisionNumber']).pvalue\n",
    "    print(f'Kendalls_Tau coefficient between {metric} and number of revisions is {kd_coefficient},p-value is {kd_pvalue}')\n"
   ]
  },
  {
   "cell_type": "code",
   "execution_count": 18,
   "metadata": {},
   "outputs": [
    {
     "name": "stdout",
     "output_type": "stream",
     "text": [
      "Pearsor coefficient between sloc and number of revisions is 0.33635779290863266,p-value is 0.0\n",
      "Spearman coefficient between sloc and number of revisions is 0.22773773158226973,p-value is 0.0\n",
      "Kendalls_Tau coefficient between sloc and number of revisions is 0.18387689951707437,p-value is 0.0\n",
      "Pearsor coefficient between mcCabe and number of revisions is 0.2615291049136776,p-value is 0.0\n",
      "Spearman coefficient between mcCabe and number of revisions is 0.18579272843576797,p-value is 0.0\n",
      "Kendalls_Tau coefficient between mcCabe and number of revisions is 0.16007349613706603,p-value is 0.0\n",
      "Pearsor coefficient between readability and number of revisions is -0.23242908802072307,p-value is 0.0\n",
      "Spearman coefficient between readability and number of revisions is -0.23311417084388802,p-value is 0.0\n",
      "Kendalls_Tau coefficient between readability and number of revisions is -0.17335287432132895,p-value is 0.0\n"
     ]
    }
   ],
   "source": [
    "import pandas as pd\n",
    "from scipy import stats \n",
    "\n",
    "# read scv\n",
    "data = pd.read_csv(\"E:/2023F/course/softwarequality/codaass2/hadoop.csv\")\n",
    "code_metrics=['sloc','mcCabe','readability']\n",
    "\n",
    "for metric in code_metrics:\n",
    "    ps_coefficient=stats.pearsonr(data[metric], data['revisionNumber']).statistic\n",
    "    ps_pvalue=stats.pearsonr(data[metric], data['revisionNumber']).pvalue\n",
    "    print(f'Pearsor coefficient between {metric} and number of revisions is {ps_coefficient},p-value is {ps_pvalue}')\n",
    "\n",
    "    sp_coefficient=stats.spearmanr(data[metric], data['revisionNumber']).statistic\n",
    "    sp_pvalue=stats.spearmanr(data[metric], data['revisionNumber']).pvalue\n",
    "    print(f'Spearman coefficient between {metric} and number of revisions is {sp_coefficient},p-value is {sp_pvalue}')\n",
    "\n",
    "    kd_coefficient=stats.kendalltau(data[metric], data['revisionNumber']).statistic\n",
    "    kd_pvalue=stats.kendalltau(data[metric], data['revisionNumber']).pvalue\n",
    "    print(f'Kendalls_Tau coefficient between {metric} and number of revisions is {kd_coefficient},p-value is {kd_pvalue}')"
   ]
  }
 ],
 "metadata": {
  "kernelspec": {
   "display_name": "codex-env",
   "language": "python",
   "name": "python3"
  },
  "language_info": {
   "codemirror_mode": {
    "name": "ipython",
    "version": 3
   },
   "file_extension": ".py",
   "mimetype": "text/x-python",
   "name": "python",
   "nbconvert_exporter": "python",
   "pygments_lexer": "ipython3",
   "version": "3.9.18"
  }
 },
 "nbformat": 4,
 "nbformat_minor": 2
}
